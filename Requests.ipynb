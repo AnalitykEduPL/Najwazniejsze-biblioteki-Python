{
 "cells": [
  {
   "cell_type": "markdown",
   "metadata": {},
   "source": [
    "# Biblioteka requests - standardowa biblioteka do zapytań HTTP"
   ]
  },
  {
   "cell_type": "markdown",
   "metadata": {},
   "source": [
    "Biblioteka requests, nie jest jednyną, jednak jest najczęściej stosowaną biblioteką do tworzenia zapytań HTTP. Tym samym jest często stosowana przy web scrapingu oraz komunikacji z REST API."
   ]
  },
  {
   "cell_type": "markdown",
   "metadata": {},
   "source": [
    "## Import oraz podstawowe wykorzystanie"
   ]
  },
  {
   "cell_type": "code",
   "execution_count": null,
   "metadata": {
    "collapsed": true
   },
   "outputs": [],
   "source": [
    "import requests"
   ]
  },
  {
   "cell_type": "code",
   "execution_count": null,
   "metadata": {
    "collapsed": false
   },
   "outputs": [],
   "source": [
    "req = requests.get(\"https://analityk.edu.pl\")\n",
    "req.status_code"
   ]
  },
  {
   "cell_type": "markdown",
   "metadata": {},
   "source": [
    "Status_code, informuje nasz czy operacja się powiodła. Wartość 200, znaczy że tak. Przykładowo wartość 404, będzie oznaczać, że nie ma takiej strony."
   ]
  },
  {
   "cell_type": "markdown",
   "metadata": {},
   "source": [
    "Następnie możemy, w łatwy sposób, wyświetlić zwrócony nagłówek, lub treść"
   ]
  },
  {
   "cell_type": "code",
   "execution_count": null,
   "metadata": {
    "collapsed": false,
    "scrolled": true
   },
   "outputs": [],
   "source": [
    "req.headers"
   ]
  },
  {
   "cell_type": "code",
   "execution_count": null,
   "metadata": {
    "collapsed": false,
    "scrolled": true
   },
   "outputs": [],
   "source": [
    "req.content"
   ]
  },
  {
   "cell_type": "code",
   "execution_count": null,
   "metadata": {
    "collapsed": false,
    "scrolled": true
   },
   "outputs": [],
   "source": [
    "req.text"
   ]
  },
  {
   "cell_type": "markdown",
   "metadata": {},
   "source": [
    "## Przykład użycia funkcji GET"
   ]
  },
  {
   "cell_type": "markdown",
   "metadata": {},
   "source": [
    "proste zastosowanie funcji GET to odpytanie serwisu słownikowego o znaczenie danego słowa"
   ]
  },
  {
   "cell_type": "code",
   "execution_count": null,
   "metadata": {
    "collapsed": false,
    "scrolled": true
   },
   "outputs": [],
   "source": [
    "szukaneSłowo = 'computer'\n",
    "res = requests.get('https://www.dictionary.com/browse/' + szukaneSłowo)\n",
    "print(res.url)\n",
    "print(res.text)"
   ]
  },
  {
   "cell_type": "markdown",
   "metadata": {},
   "source": [
    "W ten sposób, pobraliśmy stronę internetową pod wskazanym adresem URL. Możemy ją wyświetlić za pomocą res.text. Będzie ona zawierać definicję słowa 'computer'. "
   ]
  },
  {
   "cell_type": "markdown",
   "metadata": {},
   "source": [
    "My jednak, pójdziemy o krok dalej, i skorzystamy z biblioteki 'BeautifulSoup', która ułatwia nam 'wyciągnięcie', tylko tej definicji, z całej pobranej przez nas strony."
   ]
  },
  {
   "cell_type": "code",
   "execution_count": null,
   "metadata": {
    "collapsed": false
   },
   "outputs": [],
   "source": [
    "from bs4 import BeautifulSoup\n",
    "\n",
    "soup = BeautifulSoup(res.text,'html.parser')\n",
    "\n",
    "desc = soup.find_all(\"meta\")\n",
    "for tag in soup.find_all(\"meta\"):\n",
    "    if tag.get(\"name\") == \"description\":\n",
    "        print(tag.get(\"content\"))"
   ]
  },
  {
   "cell_type": "markdown",
   "metadata": {},
   "source": [
    "### https://httpbin.org/"
   ]
  },
  {
   "cell_type": "markdown",
   "metadata": {},
   "source": [
    "Httpbin.org to strona która umożliwia nam testowanie wszelakiej maści bibliotek to komunikacji http, takiej jak requests. Umożliwia ona przetestowanie wszystkich typowych operacji, i będzie wykorzystywana przez nas poniżej, w celu zobrazowania działania biblioteki requests w praktyce."
   ]
  },
  {
   "cell_type": "markdown",
   "metadata": {},
   "source": [
    "## params"
   ]
  },
  {
   "cell_type": "markdown",
   "metadata": {},
   "source": [
    "Bardzo szybko, natrafimy na konieczność podania dodatkowych wartości, przy wykonywaniu polecenia GET do różnych URL. Przykładowo możemy odpytywać serwis internetowy przykładowy.org/miasta, prosząc o lokalizację geograficzną miasta. Serwis oczekuje, że w parametrach wywołania, podamy np. nazwe miasta. W tedy, będziemy już nie tylko, pobierać treść URL, ale również przekazywać w parametrach wywołania, nazwę miasta, aby treść URL była przez serwis, odpowiednio, dla nas przygotowana. "
   ]
  },
  {
   "cell_type": "markdown",
   "metadata": {},
   "source": [
    "Bez problemu, możemy rozszerzyć nasze zapytnie GET, o parametry. Zobaczmy przykład takiego zapytania, wykorzystując serwis httpbin:"
   ]
  },
  {
   "cell_type": "code",
   "execution_count": null,
   "metadata": {
    "collapsed": false
   },
   "outputs": [],
   "source": [
    "parameters = { 'masto' : 'Warszawa', 'państwo' : 'Polska' }\n",
    "r = requests.get('https://httpbin.org/get', params=parameters)\n",
    "print (r.text)"
   ]
  },
  {
   "cell_type": "markdown",
   "metadata": {},
   "source": [
    "Serwis, zwrócił nam odpowiedź, w której pokazuje, jakie parametry dostał, oraz jak wyglądało zapytanie: \"url\": \"https://httpbin.org/get?key1=value1&key2=value2\""
   ]
  },
  {
   "cell_type": "markdown",
   "metadata": {},
   "source": [
    "params, jest bardzo często opcją wykonywania GET. W praktyce, będziemy to wykorzystywać, przekazują w parametrach przykładowo klucz do API, aby serwisy wiedziały, kto żąda od nich danych. W ten sposób będą kontrolować użycie API, napiczać koszty itd"
   ]
  },
  {
   "cell_type": "markdown",
   "metadata": {},
   "source": [
    "## autoryzacja"
   ]
  },
  {
   "cell_type": "markdown",
   "metadata": {},
   "source": [
    "Podawanie klucza API w parametrach wywołania funkcji GET, to najprostrza forma autoryzacji. Czasem jednak musimy dokonać autoryzacji za pomocą loginu oraz hasła. W bibliotece reqest, mamy do dyspozycji parametr 'auth', który jest krotką, zawierającą login oraz hasło."
   ]
  },
  {
   "cell_type": "markdown",
   "metadata": {},
   "source": [
    "Swójrzmy na przykład pobrania wartości ze strony github, co jest możliwe dopiero, po podaniu naszych uprawnień."
   ]
  },
  {
   "cell_type": "code",
   "execution_count": null,
   "metadata": {
    "collapsed": false
   },
   "outputs": [],
   "source": [
    "res = requests.get('https://api.github.com/user', auth=('login', 'haslo'))\n",
    "print(res.text)"
   ]
  },
  {
   "cell_type": "markdown",
   "metadata": {},
   "source": [
    "Po podaniu naszelo loginu oraz hasła, powyższy kod, się wykona prawidłowo. W innym przypadku otrzymamy informację \"Bad credentials\""
   ]
  },
  {
   "cell_type": "markdown",
   "metadata": {},
   "source": [
    "## post"
   ]
  },
  {
   "cell_type": "markdown",
   "metadata": {},
   "source": [
    "Kolejną po GET, popularną operacją w przypadku protokołu http, jest POST. W tym przypadku, zamiast pobrania danych, wysyłamy je na wskazany adres. Przykładowo, formatki na stronach internetowych, po uzupełnieniu pól oraz naciśnięciu  guzika 'wyślij', generują opercę PUT, zbierając z formatek wpisane dane oraz wysyłając je do serwisu."
   ]
  },
  {
   "cell_type": "markdown",
   "metadata": {},
   "source": [
    "Biblioteka requests, posiada metodę 'post', która umożliwia nam dokładnie to samo. Dane które chcemy przesłać, przetrzymywane są w dodatkowym parametrze o nawie 'data'. Działa to tak samo jak w przypadku metody request.get, oraz paramatry 'params'."
   ]
  },
  {
   "cell_type": "code",
   "execution_count": null,
   "metadata": {
    "collapsed": false
   },
   "outputs": [],
   "source": [
    "#body_data = \"This is my body\"\n",
    "body_data = {\"Wiek\": 30, \"Osoba\": \"Jak Kowalski\"}\n",
    "r = requests.post('https://httpbin.org/post', data=body_data)\n",
    "print(r.text)"
   ]
  }
 ],
 "metadata": {
  "kernelspec": {
   "display_name": "Python 3",
   "language": "python",
   "name": "python3"
  },
  "language_info": {
   "codemirror_mode": {
    "name": "ipython",
    "version": 3
   },
   "file_extension": ".py",
   "mimetype": "text/x-python",
   "name": "python",
   "nbconvert_exporter": "python",
   "pygments_lexer": "ipython3",
   "version": "3.5.3"
  }
 },
 "nbformat": 4,
 "nbformat_minor": 2
}
